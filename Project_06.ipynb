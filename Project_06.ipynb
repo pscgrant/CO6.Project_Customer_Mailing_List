{
 "cells": [
  {
   "metadata": {},
   "cell_type": "markdown",
   "source": [
    "# This is a sample Jupyter Notebook\n",
    "\n",
    "Below is an example of a code cell. \n",
    "Put your cursor into the cell and press Shift+Enter to execute it and select the next one, or click 'Run Cell' button.\n",
    "\n",
    "Press Double Shift to search everywhere for classes, files, tool windows, actions, and settings.\n",
    "\n",
    "To learn more about Jupyter Notebooks in PyCharm, see [help](https://www.jetbrains.com/help/pycharm/ipython-notebook-support.html).\n",
    "For an overview of PyCharm, go to Help -> Learn IDE features or refer to [our documentation](https://www.jetbrains.com/help/pycharm/getting-started.html)."
   ],
   "id": "8a77807f92f26ee"
  },
  {
   "metadata": {
    "ExecuteTime": {
     "end_time": "2024-11-09T03:15:55.840760Z",
     "start_time": "2024-11-09T03:15:03.231809Z"
    }
   },
   "cell_type": "code",
   "source": [
    "class Person:\n",
    "    def __init__(self, name, address, telephone):\n",
    "        self.name = name\n",
    "        self.address = address\n",
    "        self.telephone = telephone\n",
    "\n",
    "# child class using the Person class\n",
    "class Customer(Person):\n",
    "    def __init__(self, name, address, telephone, customer_number, mailing_list):\n",
    "        # attributes from the class Person\n",
    "        self.name = name\n",
    "        self.address = address\n",
    "        self.telephone = telephone\n",
    "        # new attributes for the customer class\n",
    "        self.customer_number = customer_number\n",
    "        self.mailing_list = mailing_list\n",
    "        \n",
    "    def output_to_file(self, filename):\n",
    "        with open(filename, 'w') as file:\n",
    "            file.write(\"Customer information:\\n\")\n",
    "            file.write(f\"Name: {self.name}\\n\")\n",
    "            file.write(f\"Address: {self.address}\\n\")\n",
    "            file.write(f\"Phone number: {self.telephone}\\n\")\n",
    "            file.write(f\"Customer Number: {self.customer_number}\\n\")\n",
    "            file.write(f\"On Mailing list: {self.mailing_list}\\n\")\n",
    "            file.write(\"Bye!\")\n",
    "\n",
    "\n",
    "def create_customer():\n",
    "    #collect the user inputs\n",
    "    name = input(\"Enter your name: \")\n",
    "    address = input(\"Enter your address: \")\n",
    "    phone = input(\"Enter your telephone number: \")\n",
    "    customer_number = input(\"Enter your customer number: \")\n",
    "    mailing_list = input(\"Do you wish to be added to the mailing list? (Yes/No)\")\n",
    "    # converts to a boolean and all lowercase\n",
    "    lower_mailing_list = mailing_list.lower() == \"yes\"\n",
    "    \n",
    "    # creating an instance of Customer\n",
    "    customer = Customer(name, address, phone, customer_number, lower_mailing_list)\n",
    "    \n",
    "    customer.output_to_file(\"Output_06.txt\")\n",
    "\n",
    "create_customer()"
   ],
   "id": "fbc121e30a2defb3",
   "outputs": [],
   "execution_count": 1
  }
 ],
 "metadata": {
  "kernelspec": {
   "display_name": "Python 3",
   "language": "python",
   "name": "python3"
  },
  "language_info": {
   "codemirror_mode": {
    "name": "ipython",
    "version": 2
   },
   "file_extension": ".py",
   "mimetype": "text/x-python",
   "name": "python",
   "nbconvert_exporter": "python",
   "pygments_lexer": "ipython2",
   "version": "2.7.6"
  }
 },
 "nbformat": 4,
 "nbformat_minor": 5
}
